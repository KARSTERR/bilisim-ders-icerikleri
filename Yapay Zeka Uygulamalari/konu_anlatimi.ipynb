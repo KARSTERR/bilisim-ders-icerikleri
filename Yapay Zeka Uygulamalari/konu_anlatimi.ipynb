{
 "cells": [
  {
   "cell_type": "markdown",
   "id": "c7b88c28-4cac-4b53-8aa0-c5c973ead0b3",
   "metadata": {},
   "source": [
    "# Gerekli Kütüphaneleri Yükleme\n",
    "\n",
    "Öncelikle veri işleme, ölçeklendirme, normalizasyon, özellik seçimi ve modelleme işlemleri için gerekli kütüphaneleri yüklüyoruz. Bu kütüphaneler, sayısal işlemlerden veri hazırlama ve özellik seçimine kadar pek çok işlemi yapmamızı sağlar."
   ]
  },
  {
   "cell_type": "code",
   "execution_count": 140,
   "id": "89b5b335-88e4-4d6e-9c30-1667a1dba57a",
   "metadata": {},
   "outputs": [],
   "source": [
    "import numpy as np\n",
    "from pandas import read_csv\n",
    "from numpy import set_printoptions\n",
    "from sklearn.preprocessing import MinMaxScaler, Normalizer, Binarizer\n",
    "from sklearn.feature_selection import SelectKBest, chi2\n",
    "from sklearn.linear_model import LogisticRegression\n",
    "from sklearn.feature_selection import RFE\n",
    "from sklearn.decomposition import PCA\n",
    "from sklearn.ensemble import ExtraTreesClassifier"
   ]
  },
  {
   "cell_type": "markdown",
   "id": "0892a371-0fad-47fd-a6e7-ca03d1ce68ac",
   "metadata": {},
   "source": [
    "# Veri Dosya Yolu ve Değişken İsimlerini Tanımlama\n",
    "\n",
    "Veri dosyasının yolunu belirleyip, veri setindeki sütunları anlamlı isimlerle tanımlıyoruz. Bu sayede veri yükleme ve işleme sürecinde sütunları kolayca ayırt edebiliriz."
   ]
  },
  {
   "cell_type": "code",
   "execution_count": 141,
   "id": "b87a8f42-7578-46b0-968d-371cef58fcf7",
   "metadata": {},
   "outputs": [],
   "source": [
    "dosya = '/home/karsterr/Documents/CSIT/AI Programming/Datasets/pima_indians_diabetes.csv'\n",
    "degiskenler = ['geb', 'glik', 'pres', 'deri', 'ins', 'bmi', 'soy', 'yas', 'sinif']"
   ]
  },
  {
   "cell_type": "markdown",
   "id": "1510b355-a8fa-4564-a395-3888edc5faf4",
   "metadata": {},
   "source": [
    "# Veri Kümesini Yükleme\n",
    "\n",
    "*read_csv* fonksiyonu ile veri setini yüklüyoruz. Veri setinin ilk birkaç satırını ekrana yazarak dosyanın doğru şekilde okunduğunu kontrol ediyoruz."
   ]
  },
  {
   "cell_type": "code",
   "execution_count": 142,
   "id": "57871228-4696-44ed-bf40-b75a5e6daa8a",
   "metadata": {},
   "outputs": [
    {
     "name": "stdout",
     "output_type": "stream",
     "text": [
      "   geb  glik  pres  deri  ins   bmi    soy  yas  sinif\n",
      "0    6   148    72    35    0  33.6  0.627   50      1\n",
      "1    1    85    66    29    0  26.6  0.351   31      0\n",
      "2    8   183    64     0    0  23.3  0.672   32      1\n",
      "3    1    89    66    23   94  28.1  0.167   21      0\n",
      "4    0   137    40    35  168  43.1  2.288   33      1\n"
     ]
    }
   ],
   "source": [
    "veri = read_csv(dosya, names=degiskenler, header=0)\n",
    "print(veri.head())"
   ]
  },
  {
   "cell_type": "markdown",
   "id": "cbf295b3-84c3-4e73-9c5b-53aafe05fb2b",
   "metadata": {},
   "source": [
    "# Pandas'dan Numpy Dizisine Çevirme\n",
    "\n",
    "Pandas DataFrame'ini Numpy dizisine çeviriyoruz. Bu işlem, veriyi Numpy tabanlı kütüphanelerle daha kolay işlememizi sağlar."
   ]
  },
  {
   "cell_type": "code",
   "execution_count": 143,
   "id": "6fa15518-fc00-4192-baba-f218ab88ad69",
   "metadata": {},
   "outputs": [
    {
     "name": "stdout",
     "output_type": "stream",
     "text": [
      "[[  6.    148.     72.    ...   0.627  50.      1.   ]\n",
      " [  1.     85.     66.    ...   0.351  31.      0.   ]\n",
      " [  8.    183.     64.    ...   0.672  32.      1.   ]\n",
      " ...\n",
      " [  5.    121.     72.    ...   0.245  30.      0.   ]\n",
      " [  1.    126.     60.    ...   0.349  47.      1.   ]\n",
      " [  1.     93.     70.    ...   0.315  23.      0.   ]]\n"
     ]
    }
   ],
   "source": [
    "dizi = veri.values\n",
    "print(dizi)"
   ]
  },
  {
   "cell_type": "markdown",
   "id": "c6e65d8d-4417-4ea6-a50d-83221da56041",
   "metadata": {},
   "source": [
    "# Girdi ve Çıktı Değişkenlerini Ayırma\n",
    "\n",
    "Bağımsız değişkenleri *x* ve bağımlı değişkeni *y* olarak ayırıyoruz. Bu, veriyi modellemeye hazırlarken önemli bir adımdır."
   ]
  },
  {
   "cell_type": "code",
   "execution_count": 144,
   "id": "9eaade73-6b84-4d84-b46b-dfda874429f0",
   "metadata": {},
   "outputs": [],
   "source": [
    "x = dizi[:, 0:8]  # İlk 8 sütun özellikler\n",
    "y = dizi[:, 8]    # Son sütun hedef değişken"
   ]
  },
  {
   "cell_type": "markdown",
   "id": "9805d059-a4a2-492b-8e51-9bd6410a540d",
   "metadata": {},
   "source": [
    "# Min-Max Ölçekleme\n",
    "\n",
    "Min-Max ölçekleyici kullanarak veriyi 0-1 aralığına dönüştürüyoruz. Bu işlem, özelliklerin aynı ölçek aralığında olmasını sağlayarak model performansını artırır."
   ]
  },
  {
   "cell_type": "code",
   "execution_count": 145,
   "id": "c2215db8-2113-4350-b8f0-bb2821527204",
   "metadata": {},
   "outputs": [
    {
     "name": "stdout",
     "output_type": "stream",
     "text": [
      "[[0.294 0.583 0.607 0.    0.    0.382 0.053 0.15 ]\n",
      " [0.176 0.392 0.41  0.323 0.104 0.462 0.073 0.083]\n",
      " [0.588 0.578 0.    0.    0.    0.526 0.024 0.133]\n",
      " [0.118 0.99  0.574 0.455 0.642 0.455 0.034 0.533]\n",
      " [0.471 0.628 0.787 0.    0.    0.    0.066 0.55 ]]\n"
     ]
    }
   ],
   "source": [
    "olcekleyici = MinMaxScaler(feature_range=(0,1))\n",
    "olceklendirilmis_x = olcekleyici.fit_transform(x)\n",
    "\n",
    "# Ölçeklenmiş veriyi görüntüleme\n",
    "set_printoptions(precision=3)\n",
    "print(olceklendirilmis_x[5:10, :])"
   ]
  },
  {
   "cell_type": "markdown",
   "id": "19e40e54-8330-4744-814d-c508cdeddeff",
   "metadata": {},
   "source": [
    "# Normalizasyon\n",
    "\n",
    "Verinin her satırını birim uzunluğa getiriyoruz. Normalizasyon, özelliklerin farklı büyüklüklerden etkilenmeden işlenmesini sağlar."
   ]
  },
  {
   "cell_type": "code",
   "execution_count": 147,
   "id": "1a1843ff-db8e-4e23-a1ae-edbdf1fbd1fa",
   "metadata": {},
   "outputs": [
    {
     "name": "stdout",
     "output_type": "stream",
     "text": [
      "[[0.035 0.81  0.517 0.    0.    0.179 0.001 0.209]\n",
      " [0.022 0.566 0.363 0.232 0.638 0.225 0.002 0.189]\n",
      " [0.081 0.926 0.    0.    0.    0.284 0.001 0.234]\n",
      " [0.003 0.336 0.119 0.077 0.925 0.052 0.    0.09 ]\n",
      " [0.048 0.749 0.576 0.    0.    0.    0.001 0.324]]\n"
     ]
    }
   ],
   "source": [
    "normalizer = Normalizer().fit(x)\n",
    "normalize_edilmis_x = normalizer.transform(x)\n",
    "\n",
    "set_printoptions(precision=3, suppress=True)  # Bilimsel gösterimi kapatıyoruz\n",
    "print(normalize_edilmis_x[5:10, :])"
   ]
  },
  {
   "cell_type": "markdown",
   "id": "f3dabf55-33d3-4e7e-a573-d707921d472b",
   "metadata": {},
   "source": [
    "# Veriyi İkili (Binarize) Hale Getirme\n",
    "\n",
    "Eşik değerine göre veriyi ikili hale getiriyoruz. 0 eşik değeri altında kalan veriler 0, üstünde kalan veriler ise 1 olarak atanır."
   ]
  },
  {
   "cell_type": "code",
   "execution_count": 148,
   "id": "baf3177a-7330-46f5-96a5-aa70820472d9",
   "metadata": {},
   "outputs": [
    {
     "name": "stdout",
     "output_type": "stream",
     "text": [
      "[[1. 1. 1. 0. 0. 1. 1. 1.]\n",
      " [1. 1. 1. 1. 1. 1. 1. 1.]\n",
      " [1. 1. 0. 0. 0. 1. 1. 1.]\n",
      " [1. 1. 1. 1. 1. 1. 1. 1.]\n",
      " [1. 1. 1. 0. 0. 0. 1. 1.]]\n"
     ]
    }
   ],
   "source": [
    "ikili_donusum = Binarizer(threshold=0.0).fit(x)\n",
    "ikilesmis_x = ikili_donusum.transform(x)\n",
    "\n",
    "set_printoptions(precision=3, suppress=True)\n",
    "print(ikilesmis_x[5:10, :])"
   ]
  },
  {
   "cell_type": "markdown",
   "id": "7ddcd454-bd96-42c3-ae4f-59707e5d1fc9",
   "metadata": {},
   "source": [
    "# Özellik Seçimi - Tek Değişkenli Seçim\n",
    "\n",
    "Chi-Square testi ile hedef değişkenle en yüksek ilişkili olan en iyi 4 özelliği seçiyoruz. Bu işlem, gereksiz özellikleri eleyerek modelin daha iyi çalışmasını sağlar."
   ]
  },
  {
   "cell_type": "code",
   "execution_count": 149,
   "id": "1527f56b-8b54-40ba-930a-3a15513e49a8",
   "metadata": {},
   "outputs": [
    {
     "name": "stdout",
     "output_type": "stream",
     "text": [
      "Seçilen Özellik İndeksleri : [1 4 5 7]\n"
     ]
    }
   ],
   "source": [
    "secici = SelectKBest(score_func=chi2, k=4)\n",
    "x_yeni = secici.fit_transform(x, y)\n",
    "\n",
    "set_printoptions(precision=3, suppress=True)\n",
    "print(f\"Seçilen Özellik İndeksleri : {secici.get_support(indices=True)}\")"
   ]
  },
  {
   "cell_type": "markdown",
   "id": "3171d656-ca73-48fc-99ce-ef49df7a5bcd",
   "metadata": {},
   "source": [
    "# Geriye Yönelik Özellik Eleme (Recursive Feature Elimination - RFE)\n",
    "\n",
    "Lojistik regresyon modelini kullanarak özellikleri adım adım azaltıyoruz. En iyi özellik kombinasyonlarını bulmak için her adımda en düşük önem sırasındaki özellikleri kaldırıyoruz."
   ]
  },
  {
   "cell_type": "code",
   "execution_count": 151,
   "id": "65aac680-6c77-46aa-9696-741351ddb382",
   "metadata": {},
   "outputs": [
    {
     "name": "stdout",
     "output_type": "stream",
     "text": [
      "Seçilen Özellik İndeksleri : [0 1 5 6]\n",
      "Yeni Özellikler: [[  5.    116.     25.6     0.201]\n",
      " [  3.     78.     31.      0.248]\n",
      " [ 10.    115.     35.3     0.134]\n",
      " [  2.    197.     30.5     0.158]\n",
      " [  8.    125.      0.      0.232]]\n"
     ]
    }
   ],
   "source": [
    "model = LogisticRegression(max_iter=1000)\n",
    "rfe = RFE(model, step=4)\n",
    "\n",
    "x_yeni = rfe.fit_transform(x, y)\n",
    "\n",
    "print(f\"Seçilen Özellik İndeksleri : {rfe.get_support(indices=True)}\")\n",
    "print(f\"Yeni Özellikler: {x_yeni[5:10, :]}\")"
   ]
  },
  {
   "cell_type": "markdown",
   "id": "1fc55279-3f27-4649-9665-2a54c7b9b4ec",
   "metadata": {},
   "source": [
    "# Ana Bileşen Analizi (PCA) ile Özellik Seçimi\n",
    "\n",
    "PCA ile verinin boyutunu azaltarak en yüksek varyansı açıklayan bileşenleri oluşturuyoruz. Bu sayede model performansı artırılırken veri karmaşıklığı azalır."
   ]
  },
  {
   "cell_type": "code",
   "execution_count": 152,
   "id": "4858d791-c483-4be3-8ba0-28a60ccb484c",
   "metadata": {},
   "outputs": [
    {
     "name": "stdout",
     "output_type": "stream",
     "text": [
      "Yeni Özellikler : [[-80.978   3.947  -0.641 -15.118]\n",
      " [  4.351 -46.934  -9.183  11.509]\n",
      " [-82.137  -7.098 -67.489   6.131]\n",
      " [468.866  31.528 -10.057  -5.99 ]\n",
      " [-80.194  18.048  18.05  -32.127]]\n",
      "Açıklanan Varyans Oranı : [0.889 0.062 0.026 0.013]\n"
     ]
    }
   ],
   "source": [
    "pca = PCA(n_components=4)\n",
    "x_yeni = pca.fit_transform(x)\n",
    "\n",
    "print(f\"Yeni Özellikler : {x_yeni[5:10, :]}\")\n",
    "print(f\"Açıklanan Varyans Oranı : {pca.explained_variance_ratio_}\")\n"
   ]
  },
  {
   "cell_type": "markdown",
   "id": "5a7ef27e-2ddc-41f0-b10b-5d1e8fcc9cfb",
   "metadata": {},
   "source": [
    "# Özellik Önem Dereceleri\n",
    "\n",
    "Ekstra Ağaçlar sınıflandırıcısını kullanarak her bir özelliğin hedef değişkene katkısını hesaplıyoruz. Bu özelliklerin önem sıralamasına göre en yüksek dereceli olanları belirleyebiliriz."
   ]
  },
  {
   "cell_type": "code",
   "execution_count": 153,
   "id": "12806e02-3347-4585-b130-f58f6ed741f6",
   "metadata": {},
   "outputs": [
    {
     "name": "stdout",
     "output_type": "stream",
     "text": [
      "Yeni Özellikler : [[116.     30.     25.6     0.201]\n",
      " [ 78.     26.     31.      0.248]\n",
      " [115.     29.     35.3     0.134]\n",
      " [197.     53.     30.5     0.158]\n",
      " [125.     54.      0.      0.232]]\n",
      "Açıklanan Varyans Oranı : [0.108 0.231 0.097 0.082 0.074 0.144 0.119 0.144]\n"
     ]
    }
   ],
   "source": [
    "model = ExtraTreesClassifier()\n",
    "model.fit(x, y)\n",
    "\n",
    "importances = model.feature_importances_\n",
    "indices = np.argsort(importances)[::-1]\n",
    "\n",
    "selected_indices = indices[:4]\n",
    "\n",
    "set_printoptions(precision=3, suppress=True)\n",
    "print(f\"Yeni Özellikler : {x[5:10, selected_indices]}\")\n",
    "print(f\"Açıklanan Varyans Oranı : {model.feature_importances_}\")\n"
   ]
  },
  {
   "cell_type": "code",
   "execution_count": null,
   "id": "2d639865-fd69-4878-b432-81372f1daa02",
   "metadata": {},
   "outputs": [],
   "source": []
  }
 ],
 "metadata": {
  "kernelspec": {
   "display_name": "Python 3 (ipykernel)",
   "language": "python",
   "name": "python3"
  },
  "language_info": {
   "codemirror_mode": {
    "name": "ipython",
    "version": 3
   },
   "file_extension": ".py",
   "mimetype": "text/x-python",
   "name": "python",
   "nbconvert_exporter": "python",
   "pygments_lexer": "ipython3",
   "version": "3.12.7"
  }
 },
 "nbformat": 4,
 "nbformat_minor": 5
}
